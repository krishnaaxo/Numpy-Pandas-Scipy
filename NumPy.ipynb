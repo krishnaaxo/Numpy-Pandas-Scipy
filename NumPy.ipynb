{
  "nbformat": 4,
  "nbformat_minor": 0,
  "metadata": {
    "colab": {
      "name": "NumPy.ipynb",
      "provenance": [],
      "include_colab_link": true
    },
    "kernelspec": {
      "display_name": "Python 3",
      "language": "python",
      "name": "python3"
    },
    "language_info": {
      "codemirror_mode": {
        "name": "ipython",
        "version": 3
      },
      "file_extension": ".py",
      "mimetype": "text/x-python",
      "name": "python",
      "nbconvert_exporter": "python",
      "pygments_lexer": "ipython3",
      "version": "3.7.7"
    }
  },
  "cells": [
    {
      "cell_type": "markdown",
      "metadata": {
        "id": "view-in-github",
        "colab_type": "text"
      },
      "source": [
        "<a href=\"https://colab.research.google.com/github/krishnaaxo/Numpy-Pandas-Scipy/blob/main/NumPy.ipynb\" target=\"_parent\"><img src=\"https://colab.research.google.com/assets/colab-badge.svg\" alt=\"Open In Colab\"/></a>"
      ]
    },
    {
      "cell_type": "markdown",
      "metadata": {
        "id": "PhwECpSKOBWu"
      },
      "source": [
        "# Numpy Operations\n",
        "## Practice set by KRISHNA MORE\n",
        "---\n",
        "\n"
      ]
    },
    {
      "cell_type": "markdown",
      "metadata": {
        "id": "PcD6GFLYOaNk"
      },
      "source": [
        "## Vectors and Matrices"
      ]
    },
    {
      "cell_type": "code",
      "metadata": {
        "colab": {
          "base_uri": "https://localhost:8080/"
        },
        "id": "9rbV5HkyN9mn",
        "outputId": "99a69018-8e36-4204-e4c2-7420dcedbc3b"
      },
      "source": [
        "import numpy as np # To perform a number of mathematical operations on arrays\n",
        "my_list = [1,2,3,4,5]\n",
        "arr1 = np.array(my_list)\n",
        "print(\"Type or class of this object: \",type(arr1))\n",
        "print(\"Here is the vector\\n-------------------\\n\",arr1)"
      ],
      "execution_count": 4,
      "outputs": [
        {
          "output_type": "stream",
          "text": [
            "Type or class of this object:  <class 'numpy.ndarray'>\n",
            "Here is the vector\n",
            "-------------------\n",
            " [1 2 3 4 5]\n"
          ],
          "name": "stdout"
        }
      ]
    },
    {
      "cell_type": "code",
      "metadata": {
        "colab": {
          "base_uri": "https://localhost:8080/"
        },
        "id": "5UjSAcDqPR98",
        "outputId": "3b92a938-9dd5-4fcf-ba55-e36385ddf2ee"
      },
      "source": [
        "my_matrix = [[1,2,3],[4,5,6],[7,8,9]]\n",
        "matrix = np.array(my_matrix)\n",
        "print(\"Type or class of this object: \",type(matrix))\n",
        "print(\"Here is the ,matrix \\n----------\\n\",matrix,\"\\n------------\")\n",
        "print(\"Dimension of the matrix: \",matrix.ndim,sep='') #ndim gives the dimension which is 2 for matrix and 1 for a vector. sep is for sepration\n",
        "print(\"Shape of the matrix: \",matrix.shape,sep='') #shape gives the number of element along each axes (dimension)\n",
        "print(\"Data type of the matrix: \",matrix.dtype,sep='')  #dtype gives the data type contained in the array\n",
        "\n",
        "my_matrix = [[1.1,2,3],[4,5.2,6],[7,8.3,9]]\n",
        "matrix = np.array(my_matrix)\n",
        "print(\"Data type of the modified matrix: \", matrix.dtype,sep='') #dtype gives the data type contained in the array\n",
        "print(\"\\n\\nEven tuples can be converted to ndarrays...\")\n",
        "\n",
        "A = np.array([(1.5,2,3), (4,5,6)])\n",
        "print(\"We write A = np.array([(1.5,2,3), (4,5,6)])\")\n",
        "print(\"Matrix made from tuples, not lists\\n---------------------------------------\")\n",
        "print(A)"
      ],
      "execution_count": 5,
      "outputs": [
        {
          "output_type": "stream",
          "text": [
            "Type or class of this object:  <class 'numpy.ndarray'>\n",
            "Here is the ,matrix \n",
            "----------\n",
            " [[1 2 3]\n",
            " [4 5 6]\n",
            " [7 8 9]] \n",
            "------------\n",
            "Dimension of the matrix: 2\n",
            "Shape of the matrix: (3, 3)\n",
            "Data type of the matrix: int64\n",
            "Data type of the modified matrix: float64\n",
            "\n",
            "\n",
            "Even tuples can be converted to ndarrays...\n",
            "We write A = np.array([(1.5,2,3), (4,5,6)])\n",
            "Matrix made from tuples, not lists\n",
            "---------------------------------------\n",
            "[[1.5 2.  3. ]\n",
            " [4.  5.  6. ]]\n"
          ],
          "name": "stdout"
        }
      ]
    },
    {
      "cell_type": "markdown",
      "metadata": {
        "id": "vewTu8wpRYEf"
      },
      "source": [
        "## 'arange' and 'linspace'"
      ]
    },
    {
      "cell_type": "code",
      "metadata": {
        "id": "AUAlT7tiPSbu",
        "colab": {
          "base_uri": "https://localhost:8080/"
        },
        "outputId": "37494692-dcff-4c18-8eb8-79dc0e1fa455"
      },
      "source": [
        "print(\"A series of numbers:\",np.arange(5,16)) # A series of numbers from low to high"
      ],
      "execution_count": 6,
      "outputs": [
        {
          "output_type": "stream",
          "text": [
            "A series of numbers: [ 5  6  7  8  9 10 11 12 13 14 15]\n"
          ],
          "name": "stdout"
        }
      ]
    },
    {
      "cell_type": "code",
      "metadata": {
        "id": "Ya70KR0yRmd2",
        "colab": {
          "base_uri": "https://localhost:8080/"
        },
        "outputId": "ec94e877-d717-4dce-dbc7-cae2cee7640c"
      },
      "source": [
        "print(\"Numbers spaced apart by 2:\",np.arange(0,11,2)) # Numbers spaced apart by 2"
      ],
      "execution_count": 7,
      "outputs": [
        {
          "output_type": "stream",
          "text": [
            "Numbers spaced apart by 2: [ 0  2  4  6  8 10]\n"
          ],
          "name": "stdout"
        }
      ]
    },
    {
      "cell_type": "code",
      "metadata": {
        "id": "0v8cBnUERrjW",
        "colab": {
          "base_uri": "https://localhost:8080/"
        },
        "outputId": "09b1b730-884c-44d9-f273-63578a13d037"
      },
      "source": [
        "print(\"Numbers spaced apart by float:\",np.arange(0,11,2.5)) # Numbers spaced apart by 2.5"
      ],
      "execution_count": 8,
      "outputs": [
        {
          "output_type": "stream",
          "text": [
            "Numbers spaced apart by float: [ 0.   2.5  5.   7.5 10. ]\n"
          ],
          "name": "stdout"
        }
      ]
    },
    {
      "cell_type": "code",
      "metadata": {
        "colab": {
          "base_uri": "https://localhost:8080/"
        },
        "id": "L13dYb-FRvEr",
        "outputId": "cc431e74-d52e-4149-fe9a-ca4642f33c79"
      },
      "source": [
        "print(\"Every 5th number from 100 in reverse order\\n\",np.arange(100,-1,-5))"
      ],
      "execution_count": 9,
      "outputs": [
        {
          "output_type": "stream",
          "text": [
            "Every 5th number from 100 in reverse order\n",
            " [100  95  90  85  80  75  70  65  60  55  50  45  40  35  30  25  20  15\n",
            "  10   5   0]\n"
          ],
          "name": "stdout"
        }
      ]
    },
    {
      "cell_type": "markdown",
      "metadata": {
        "id": "AJt8UPwqSDaE"
      },
      "source": [
        "## Zeroes, Ones, empty, and Identity matrix"
      ]
    },
    {
      "cell_type": "code",
      "metadata": {
        "colab": {
          "base_uri": "https://localhost:8080/"
        },
        "id": "oZt4qFO-R7w5",
        "outputId": "a9628d37-4d33-4d1b-bb73-7c1c6daff8c5"
      },
      "source": [
        "print(\"Vectors of zeroes \\n----------------\")\n",
        "print(np.zeros(5))\n",
        "print('matrix of Zeroes\\n----------------------')\n",
        "print(np.zeros((3,4))) #3*4 Matrix"
      ],
      "execution_count": 10,
      "outputs": [
        {
          "output_type": "stream",
          "text": [
            "Vectors of zeroes \n",
            "----------------\n",
            "[0. 0. 0. 0. 0.]\n",
            "matrix of Zeroes\n",
            "----------------------\n",
            "[[0. 0. 0. 0.]\n",
            " [0. 0. 0. 0.]\n",
            " [0. 0. 0. 0.]]\n"
          ],
          "name": "stdout"
        }
      ]
    },
    {
      "cell_type": "code",
      "metadata": {
        "colab": {
          "base_uri": "https://localhost:8080/"
        },
        "id": "oO-7aHrMS01-",
        "outputId": "e872d3f2-3e32-48fc-c3e5-ed0532e4af07"
      },
      "source": [
        "\n",
        "print(\"Vector of ones\\n---------------------\")\n",
        "print(np.ones(5))\n",
        "print(\"Matrix of ones\\n---------------------\")\n",
        "print(np.ones((5,2))) # Matrix dimension specified by Tuples\n",
        "print(\"Matrix of 5's\\n---------------------\")\n",
        "print(5*np.ones((3,5)))"
      ],
      "execution_count": 11,
      "outputs": [
        {
          "output_type": "stream",
          "text": [
            "Vector of ones\n",
            "---------------------\n",
            "[1. 1. 1. 1. 1.]\n",
            "Matrix of ones\n",
            "---------------------\n",
            "[[1. 1.]\n",
            " [1. 1.]\n",
            " [1. 1.]\n",
            " [1. 1.]\n",
            " [1. 1.]]\n",
            "Matrix of 5's\n",
            "---------------------\n",
            "[[5. 5. 5. 5. 5.]\n",
            " [5. 5. 5. 5. 5.]\n",
            " [5. 5. 5. 5. 5.]]\n"
          ],
          "name": "stdout"
        }
      ]
    },
    {
      "cell_type": "code",
      "metadata": {
        "colab": {
          "base_uri": "https://localhost:8080/"
        },
        "id": "Ml_eSJEzS0dz",
        "outputId": "22de2d69-bf1f-49e5-eddf-bb76db3268eb"
      },
      "source": [
        "print(\"Empty matrix\\n-------------\\n\", np.empty((3,5)))"
      ],
      "execution_count": 12,
      "outputs": [
        {
          "output_type": "stream",
          "text": [
            "Empty matrix\n",
            "-------------\n",
            " [[5. 5. 5. 5. 5.]\n",
            " [5. 5. 5. 5. 5.]\n",
            " [5. 5. 5. 5. 5.]]\n"
          ],
          "name": "stdout"
        }
      ]
    },
    {
      "cell_type": "code",
      "metadata": {
        "colab": {
          "base_uri": "https://localhost:8080/"
        },
        "id": "K9FKdPGqTU1V",
        "outputId": "938ca0cf-6937-48f3-d80e-31a378ab748d"
      },
      "source": [
        "matrix1 = np.eye(3) \n",
        "print(\"Identity matrix of dimension\", matrix1.shape)\n",
        "print(matrix1)"
      ],
      "execution_count": 13,
      "outputs": [
        {
          "output_type": "stream",
          "text": [
            "Identity matrix of dimension (3, 3)\n",
            "[[1. 0. 0.]\n",
            " [0. 1. 0.]\n",
            " [0. 0. 1.]]\n"
          ],
          "name": "stdout"
        }
      ]
    },
    {
      "cell_type": "markdown",
      "metadata": {
        "id": "ll5xwl0FTkEd"
      },
      "source": [
        "## Random number generation"
      ]
    },
    {
      "cell_type": "code",
      "metadata": {
        "colab": {
          "base_uri": "https://localhost:8080/"
        },
        "id": "oLzgB0rOTiRl",
        "outputId": "0b68824e-1752-40fb-ae54-94f26f272090"
      },
      "source": [
        "print(np.random.rand(2,3)) # 2 by 3 matrix with random numbers ranging from 0 to 1, Note no Tuple is necessary"
      ],
      "execution_count": 14,
      "outputs": [
        {
          "output_type": "stream",
          "text": [
            "[[0.38156414 0.10377182 0.67591076]\n",
            " [0.9491821  0.31560616 0.37400479]]\n"
          ],
          "name": "stdout"
        }
      ]
    },
    {
      "cell_type": "code",
      "metadata": {
        "colab": {
          "base_uri": "https://localhost:8080/"
        },
        "id": "7T9da5hLT2Bd",
        "outputId": "64973e05-1464-41b0-a654-2618929cf109"
      },
      "source": [
        "print(\"Numbers from normal distribution with zero mean and standard deviation 1 i.e standard normal\")\n",
        "print(np.random.randn(3,3))\n"
      ],
      "execution_count": 15,
      "outputs": [
        {
          "output_type": "stream",
          "text": [
            "Numbers from normal distribution with zero mean and standard deviation 1 i.e standard normal\n",
            "[[ 1.85460982  0.34329565 -1.37972342]\n",
            " [ 1.13496254  0.53258855 -0.46875855]\n",
            " [ 0.44751353 -0.34067048 -0.4558393 ]]\n"
          ],
          "name": "stdout"
        }
      ]
    },
    {
      "cell_type": "code",
      "metadata": {
        "colab": {
          "base_uri": "https://localhost:8080/"
        },
        "id": "eM3GtsjlUeKA",
        "outputId": "8fc813de-9da3-4a2a-aaa1-022ac634ecdd"
      },
      "source": [
        "print(\"Random integer vector:\",np.random.randint(1,100,10)) #randint (low, high, # of samples to be drawn)\n",
        "print (\"\\nRandom integer matrix\")\n",
        "print(np.random.randint(1,100,(4,4))) #randint (low, high, # of samples to be drawn in a tuple to form a matrix)\n",
        "print(\"\\n20 samples drawn from a dice throw:\",np.random.randint(1,7,20)) # 20 samples drawn from a dice throw"
      ],
      "execution_count": 16,
      "outputs": [
        {
          "output_type": "stream",
          "text": [
            "Random integer vector: [90 49 38 58 10 22 25 92 27 52]\n",
            "\n",
            "Random integer matrix\n",
            "[[16 10 44 40]\n",
            " [59 56 70 26]\n",
            " [52 71 22  5]\n",
            " [38 21 95 25]]\n",
            "\n",
            "20 samples drawn from a dice throw: [2 4 3 3 1 4 5 3 2 5 5 2 6 3 1 5 6 2 3 1]\n"
          ],
          "name": "stdout"
        }
      ]
    },
    {
      "cell_type": "markdown",
      "metadata": {
        "id": "ON5ZDEjpUrC1"
      },
      "source": [
        "## Reshaping, Min, Max and Sort"
      ]
    },
    {
      "cell_type": "code",
      "metadata": {
        "colab": {
          "base_uri": "https://localhost:8080/"
        },
        "id": "swNxDIiRUpep",
        "outputId": "93dad802-e45f-49c1-af25-cf365e565b32"
      },
      "source": [
        "from numpy.random import randint as ri\n",
        "a = ri(1,100,30)\n",
        "b = a.reshape(2,3,5)\n",
        "c = a.reshape(6,5)\n",
        "print (\"Shape of a:\", a.shape)\n",
        "print (\"Shape of b:\", b.shape)\n",
        "print (\"Shape of c:\", c.shape)\n",
        "print(\"\\na looks like\\n\",'-'*20,\"\\n\",a,\"\\n\",'-'*20)\n",
        "print(\"\\nb looks like\\n\",'-'*20,\"\\n\",b,\"\\n\",'-'*20)\n",
        "print(\"\\nc looks like\\n\",'-'*20,\"\\n\",c,\"\\n\",'-'*20)\n",
        "\n",
        "A = ri(1,100,10) # Vector of random interegrs\n",
        "print(\"\\nVector of random integers\\n\",'-'*50,\"\\n\",A)\n",
        "print(\"\\nHere is the sorted vector\\n\",'-'*50,\"\\n\",np.sort(A, kind='mergesort'))\n",
        "\n",
        "M = ri(1,100,25).reshape(5,5) # Matrix of random interegrs\n",
        "print(\"\\n5x5 Matrix of random integers\\n\",'-'*50,\"\\n\",M)\n",
        "print(\"\\nHere is the sorted matrix along each row\\n\",'-'*50,\"\\n\",np.sort(M, kind='mergesort')) # Default axis =1\n",
        "print(\"\\nHere is the sorted matrix along each column\\n\",'-'*50,\"\\n\",np.sort(M, axis=0, kind='mergesort'))"
      ],
      "execution_count": 17,
      "outputs": [
        {
          "output_type": "stream",
          "text": [
            "Shape of a: (30,)\n",
            "Shape of b: (2, 3, 5)\n",
            "Shape of c: (6, 5)\n",
            "\n",
            "a looks like\n",
            " -------------------- \n",
            " [17 98 61 85 42 35 55 64 23  8 50 94 86 17 79  2  2 95 47 40 84 33 79 21\n",
            " 18 92 46 37 53 40] \n",
            " --------------------\n",
            "\n",
            "b looks like\n",
            " -------------------- \n",
            " [[[17 98 61 85 42]\n",
            "  [35 55 64 23  8]\n",
            "  [50 94 86 17 79]]\n",
            "\n",
            " [[ 2  2 95 47 40]\n",
            "  [84 33 79 21 18]\n",
            "  [92 46 37 53 40]]] \n",
            " --------------------\n",
            "\n",
            "c looks like\n",
            " -------------------- \n",
            " [[17 98 61 85 42]\n",
            " [35 55 64 23  8]\n",
            " [50 94 86 17 79]\n",
            " [ 2  2 95 47 40]\n",
            " [84 33 79 21 18]\n",
            " [92 46 37 53 40]] \n",
            " --------------------\n",
            "\n",
            "Vector of random integers\n",
            " -------------------------------------------------- \n",
            " [85 91 47 59 34 59 30  6  9  2]\n",
            "\n",
            "Here is the sorted vector\n",
            " -------------------------------------------------- \n",
            " [ 2  6  9 30 34 47 59 59 85 91]\n",
            "\n",
            "5x5 Matrix of random integers\n",
            " -------------------------------------------------- \n",
            " [[13 38 95 47 63]\n",
            " [43 42 78 31 91]\n",
            " [99 55 12 54 99]\n",
            " [87 15 22 46 65]\n",
            " [86 69 33 82 15]]\n",
            "\n",
            "Here is the sorted matrix along each row\n",
            " -------------------------------------------------- \n",
            " [[13 38 47 63 95]\n",
            " [31 42 43 78 91]\n",
            " [12 54 55 99 99]\n",
            " [15 22 46 65 87]\n",
            " [15 33 69 82 86]]\n",
            "\n",
            "Here is the sorted matrix along each column\n",
            " -------------------------------------------------- \n",
            " [[13 15 12 31 15]\n",
            " [43 38 22 46 63]\n",
            " [86 42 33 47 65]\n",
            " [87 55 78 54 91]\n",
            " [99 69 95 82 99]]\n"
          ],
          "name": "stdout"
        }
      ]
    },
    {
      "cell_type": "code",
      "metadata": {
        "colab": {
          "base_uri": "https://localhost:8080/"
        },
        "id": "AYf1WKQEVXJ_",
        "outputId": "c859816e-2179-4887-f5b8-98c47cb1ae96"
      },
      "source": [
        "print(\"Max of a:\", a.max())\n",
        "print(\"Max of b:\", b.max())\n",
        "print(\"Max of a location:\", a.argmax())\n",
        "print(\"Max of b location:\", b.argmax())\n",
        "print(\"Max of c location:\", b.argmax())"
      ],
      "execution_count": 18,
      "outputs": [
        {
          "output_type": "stream",
          "text": [
            "Max of a: 98\n",
            "Max of b: 98\n",
            "Max of a location: 1\n",
            "Max of b location: 1\n",
            "Max of c location: 1\n"
          ],
          "name": "stdout"
        }
      ]
    },
    {
      "cell_type": "markdown",
      "metadata": {
        "id": "SW8ZNDZoVdBi"
      },
      "source": [
        "## Indexing and Slicing"
      ]
    },
    {
      "cell_type": "code",
      "metadata": {
        "colab": {
          "base_uri": "https://localhost:8080/"
        },
        "id": "5fb7v4N-VcOa",
        "outputId": "a1c6cb51-3bdc-4a60-d860-dc6046807ad0"
      },
      "source": [
        "arr = np.arange(0,11)\n",
        "print(\"Array:\",arr)\n",
        "print(\"Element at 7th index is:\", arr[7])\n",
        "print(\"Elements from 3rd to 5th index are:\", arr[3:6])\n",
        "print(\"Elements up to 4th index are:\", arr[:4])\n",
        "print(\"Elements from last backwards are:\", arr[-1::-1])\n",
        "print(\"3 Elements from last backwards are:\", arr[-1:-6:-2])\n",
        "\n",
        "arr = np.arange(0,21,2)\n",
        "print(\"New array:\",arr)\n",
        "print(\"Elements at 2nd, 4th, and 9th index are:\", arr[[2,4,9]]) # Pass a list as a index to subset"
      ],
      "execution_count": 19,
      "outputs": [
        {
          "output_type": "stream",
          "text": [
            "Array: [ 0  1  2  3  4  5  6  7  8  9 10]\n",
            "Element at 7th index is: 7\n",
            "Elements from 3rd to 5th index are: [3 4 5]\n",
            "Elements up to 4th index are: [0 1 2 3]\n",
            "Elements from last backwards are: [10  9  8  7  6  5  4  3  2  1  0]\n",
            "3 Elements from last backwards are: [10  8  6]\n",
            "New array: [ 0  2  4  6  8 10 12 14 16 18 20]\n",
            "Elements at 2nd, 4th, and 9th index are: [ 4  8 18]\n"
          ],
          "name": "stdout"
        }
      ]
    },
    {
      "cell_type": "code",
      "metadata": {
        "colab": {
          "base_uri": "https://localhost:8080/"
        },
        "id": "eRJBLDl1Vuh_",
        "outputId": "ee0a11d9-8603-423d-d04e-4b2415a53a45"
      },
      "source": [
        "from numpy.random import randint as ri\n",
        "\n",
        "mat = np.array(ri(10,100,15)).reshape(3,5)\n",
        "print(\"Matrix of random 2-digit numbers\\n--------------------------------\\n\",mat)\n",
        "\n",
        "print(\"\\nDouble bracket indexing\\n------------------------\")\n",
        "print(\"Element in row index 1 and column index 2:\", mat[1][2])\n",
        "\n",
        "print(\"\\nSingle bracket with comma indexing\\n----------------------------------\")\n",
        "print(\"Element in row index 1 and column index 2:\", mat[1,2])\n",
        "print(\"\\nRow or column extract\\n----------------------\")\n",
        "\n",
        "print(\"Entire row at index 2:\", mat[2])\n",
        "print(\"Entire column at index 3:\", mat[:,3])\n",
        "\n",
        "print(\"\\nSubsetting sub-matrices\\n--------------------------\")\n",
        "print(\"Matrix with row indices 1 and 2 and column indices 3 and 4\\n\", mat[1:3,3:5])\n",
        "print(\"Matrix with row indices 0 and 1 and column indices 1 and 3\\n\", mat[0:2,[1,3]])"
      ],
      "execution_count": 20,
      "outputs": [
        {
          "output_type": "stream",
          "text": [
            "Matrix of random 2-digit numbers\n",
            "--------------------------------\n",
            " [[49 91 30 30 26]\n",
            " [88 59 98 77 54]\n",
            " [17 44 39 45 36]]\n",
            "\n",
            "Double bracket indexing\n",
            "------------------------\n",
            "Element in row index 1 and column index 2: 98\n",
            "\n",
            "Single bracket with comma indexing\n",
            "----------------------------------\n",
            "Element in row index 1 and column index 2: 98\n",
            "\n",
            "Row or column extract\n",
            "----------------------\n",
            "Entire row at index 2: [17 44 39 45 36]\n",
            "Entire column at index 3: [30 77 45]\n",
            "\n",
            "Subsetting sub-matrices\n",
            "--------------------------\n",
            "Matrix with row indices 1 and 2 and column indices 3 and 4\n",
            " [[77 54]\n",
            " [45 36]]\n",
            "Matrix with row indices 0 and 1 and column indices 1 and 3\n",
            " [[91 30]\n",
            " [59 77]]\n"
          ],
          "name": "stdout"
        }
      ]
    },
    {
      "cell_type": "code",
      "metadata": {
        "colab": {
          "base_uri": "https://localhost:8080/"
        },
        "id": "zIihEwnYWOuJ",
        "outputId": "301cdd2d-c948-4e97-a620-b939b9f2bfbd"
      },
      "source": [
        "# create a rank 1 ndarray with 3 values\n",
        "add_rows = np.array([1, 0, 2])\n",
        "print(add_rows)"
      ],
      "execution_count": 21,
      "outputs": [
        {
          "output_type": "stream",
          "text": [
            "[1 0 2]\n"
          ],
          "name": "stdout"
        }
      ]
    },
    {
      "cell_type": "markdown",
      "metadata": {
        "id": "i5etyYmWWa7y"
      },
      "source": [
        "## NumPy basic statistics on array"
      ]
    },
    {
      "cell_type": "code",
      "metadata": {
        "colab": {
          "base_uri": "https://localhost:8080/"
        },
        "id": "-wen9mGHWZH6",
        "outputId": "f5c0356a-ff47-4741-fce6-b70d0a6e8098"
      },
      "source": [
        "mat1 = np.array(ri(1,10,9)).reshape(3,3)\n",
        "mat2 = np.array(ri(1,10,9)).reshape(3,3)\n",
        "print(\"\\n1st Matrix of random single-digit numbers\\n\",\"-\"*50,\"\\n\",mat1)\n",
        "print(\"\\n2nd Matrix of random single-digit numbers\\n\",\"-\"*50,\"\\n\",mat2)\n",
        "\n",
        "print(\"\\nSum of all numbers in 1st matrix\\n\",\"-\"*50,\"\\n\",np.sum(mat1))\n",
        "print(\"\\nSum of all numbers in columns of 1st matrix\\n\",\"-\"*50,\"\\n\",np.sum(mat1,axis=0))\n",
        "print(\"\\nSum of all numbers in rows of 1st matrix\\n\",\"-\"*50,\"\\n\",np.sum(mat1,axis=1))\n",
        "print(\"\\nProduct of all numbers in rows of 1st matrix\\n\",\"-\"*50,\"\\n\",np.prod(mat1,axis=1))\n",
        "print(\"\\nProduct of all numbers in columns of 2nd matrix\\n\",\"-\"*50,\"\\n\",np.prod(mat2,axis=0))\n",
        "print(\"\\nMean of all numbers in 1st matrix\\n\",\"-\"*50,\"\\n\",np.mean(mat1))\n",
        "print(\"\\nStandard deviation of all numbers in 1st matrix\\n\",\"-\"*50,\"\\n\",np.std(mat1))\n",
        "\n",
        "mat1 = np.array(ri(1,100,9)).reshape(3,3)\n",
        "print(\"\\nModified matrix of random numbers from 1 to 99\\n\",\"-\"*50,\"\\n\",mat1)\n",
        "print(\"\\nStandard deviation of all numbers in the modified matrix, a larger number\\n\",\"-\"*80,\"\\n\",np.std(mat1))\n",
        "print(\"\\nVariance of all numbers in the modified matrix, a larger number\\n\",\"-\"*80,\"\\n\",np.var(mat1))\n",
        "print(\"\\nMedian of all numbers in the modified matrix\\n\",\"-\"*60,\"\\n\",np.median(mat1))\n",
        "\n",
        "mat2 = np.array(ri(1,100,50)).reshape(10,5)\n",
        "print(\"\\nModified matrix of 50 random numbers from 1 to 99\\n\",\"-\"*50,\"\\n\",mat2)\n",
        "print(\"\\nStandard deviation along the columns in the modified matrix\\n\",\"-\"*60,\"\\n\",np.std(mat2,axis=0))\n",
        "\n",
        "mat1 = np.array(ri(1,100,20)).reshape(4,5)\n",
        "print(\"\\nModified matrix of random numbers from 1 to 49\\n\",\"-\"*50,\"\\n\",mat1)\n",
        "print(\"\\nFlattened and sorted matrix (as vector)\\n\",\"-\"*50,\"\\n\",np.sort(mat1.reshape(1,20)))\n",
        "print(\"\\n50th percentile of all numbers in the modified matrix\\n\",\"-\"*60,\"\\n\",np.percentile(mat1,50))\n",
        "print(\"\\n90th percentile of all numbers in the modified matrix\\n\",\"-\"*60,\"\\n\",np.percentile(mat1,90))"
      ],
      "execution_count": 22,
      "outputs": [
        {
          "output_type": "stream",
          "text": [
            "\n",
            "1st Matrix of random single-digit numbers\n",
            " -------------------------------------------------- \n",
            " [[4 6 7]\n",
            " [3 3 6]\n",
            " [8 6 6]]\n",
            "\n",
            "2nd Matrix of random single-digit numbers\n",
            " -------------------------------------------------- \n",
            " [[8 7 8]\n",
            " [2 1 1]\n",
            " [9 5 6]]\n",
            "\n",
            "Sum of all numbers in 1st matrix\n",
            " -------------------------------------------------- \n",
            " 49\n",
            "\n",
            "Sum of all numbers in columns of 1st matrix\n",
            " -------------------------------------------------- \n",
            " [15 15 19]\n",
            "\n",
            "Sum of all numbers in rows of 1st matrix\n",
            " -------------------------------------------------- \n",
            " [17 12 20]\n",
            "\n",
            "Product of all numbers in rows of 1st matrix\n",
            " -------------------------------------------------- \n",
            " [168  54 288]\n",
            "\n",
            "Product of all numbers in columns of 2nd matrix\n",
            " -------------------------------------------------- \n",
            " [144  35  48]\n",
            "\n",
            "Mean of all numbers in 1st matrix\n",
            " -------------------------------------------------- \n",
            " 5.444444444444445\n",
            "\n",
            "Standard deviation of all numbers in 1st matrix\n",
            " -------------------------------------------------- \n",
            " 1.640535895581489\n",
            "\n",
            "Modified matrix of random numbers from 1 to 99\n",
            " -------------------------------------------------- \n",
            " [[85 90 14]\n",
            " [67 32 58]\n",
            " [68  8 50]]\n",
            "\n",
            "Standard deviation of all numbers in the modified matrix, a larger number\n",
            " -------------------------------------------------------------------------------- \n",
            " 27.552419176347033\n",
            "\n",
            "Variance of all numbers in the modified matrix, a larger number\n",
            " -------------------------------------------------------------------------------- \n",
            " 759.1358024691358\n",
            "\n",
            "Median of all numbers in the modified matrix\n",
            " ------------------------------------------------------------ \n",
            " 58.0\n",
            "\n",
            "Modified matrix of 50 random numbers from 1 to 99\n",
            " -------------------------------------------------- \n",
            " [[52 83 91  5 33]\n",
            " [48 15 94 10 64]\n",
            " [64 38 30 71 35]\n",
            " [78 38 64  1 42]\n",
            " [ 9 11 38 99 94]\n",
            " [40 79 17 89 32]\n",
            " [81 47 99 25 10]\n",
            " [65 99 42 26 91]\n",
            " [68 82 27 78  5]\n",
            " [12 29 19 51 31]]\n",
            "\n",
            "Standard deviation along the columns in the modified matrix\n",
            " ------------------------------------------------------------ \n",
            " [23.86231338 29.65619665 30.58905033 34.88911005 28.81683536]\n",
            "\n",
            "Modified matrix of random numbers from 1 to 49\n",
            " -------------------------------------------------- \n",
            " [[96 13  9 29  1]\n",
            " [63  5 20 39 76]\n",
            " [76 87 10 26 25]\n",
            " [10 23 83 79 31]]\n",
            "\n",
            "Flattened and sorted matrix (as vector)\n",
            " -------------------------------------------------- \n",
            " [[ 1  5  9 10 10 13 20 23 25 26 29 31 39 63 76 76 79 83 87 96]]\n",
            "\n",
            "50th percentile of all numbers in the modified matrix\n",
            " ------------------------------------------------------------ \n",
            " 27.5\n",
            "\n",
            "90th percentile of all numbers in the modified matrix\n",
            " ------------------------------------------------------------ \n",
            " 83.4\n"
          ],
          "name": "stdout"
        }
      ]
    },
    {
      "cell_type": "markdown",
      "metadata": {
        "id": "Tx8Lt5HwW2nR"
      },
      "source": [
        "## Correlation and covariance"
      ]
    },
    {
      "cell_type": "code",
      "metadata": {
        "colab": {
          "base_uri": "https://localhost:8080/",
          "height": 698
        },
        "id": "C5KOXOehW5LV",
        "outputId": "3527db7f-7b06-4ceb-e633-7e461c71bdea"
      },
      "source": [
        "import matplotlib.pyplot as plt\n",
        " \n",
        "A = ri(1,5,20) # 20 random integeres from a small range (1-10)\n",
        "B = 2*A+5*np.random.randn(20) # B is twice that of A plus some random noise\n",
        "print(\"\\nB is twice that of A plus some random noise\")\n",
        "plt.scatter(A,B) # Scatter plot of B\n",
        "plt.title(\"Scatter plot of A vs. B, expect a small positive correlation\")\n",
        "plt.show()\n",
        "print(np.corrcoef(A,B)) # Correleation coefficient matrix between A and B\n",
        "\n",
        "A = ri(1,50,20) # 20 random integeres from a larger range (1-50)\n",
        "B = 100-2*A+10*np.random.randn(20) # B is 100 minus twice that of A plus some random noise\n",
        "print(\"\\nB is 100 minus twice that of A plus some random noise\")\n",
        "plt.scatter(A,B) # Scatter plot of B\n",
        "plt.title(\"Scatter plot of A vs. B, expect a large negative correlation\")\n",
        "plt.show()\n",
        "print(\"\")\n",
        "print(np.corrcoef(A,B)) # Correleation coefficient matrix between A and B"
      ],
      "execution_count": 23,
      "outputs": [
        {
          "output_type": "stream",
          "text": [
            "\n",
            "B is twice that of A plus some random noise\n"
          ],
          "name": "stdout"
        },
        {
          "output_type": "display_data",
          "data": {
            "image/png": "[encoded data removed]",
            "text/plain": [
              "<Figure size 432x288 with 1 Axes>"
            ]
          },
          "metadata": {
            "tags": [],
            "needs_background": "light"
          }
        },
        {
          "output_type": "stream",
          "text": [
            "[[1.        0.0452844]\n",
            " [0.0452844 1.       ]]\n",
            "\n",
            "B is 100 minus twice that of A plus some random noise\n"
          ],
          "name": "stdout"
        },
        {
          "output_type": "display_data",
          "data": {
            "image/png": "[encoded data removed]",
            "text/plain": [
              "<Figure size 432x288 with 1 Axes>"
            ]
          },
          "metadata": {
            "tags": [],
            "needs_background": "light"
          }
        },
        {
          "output_type": "stream",
          "text": [
            "\n",
            "[[ 1.         -0.91666676]\n",
            " [-0.91666676  1.        ]]\n"
          ],
          "name": "stdout"
        }
      ]
    },
    {
      "cell_type": "markdown",
      "metadata": {
        "id": "m4BqfwWzX0rl"
      },
      "source": [
        "## Transpose"
      ]
    },
    {
      "cell_type": "code",
      "metadata": {
        "colab": {
          "base_uri": "https://localhost:8080/"
        },
        "id": "tL3XdLLmX4UF",
        "outputId": "6247c693-3238-4977-89b9-58d04c003db6"
      },
      "source": [
        "A = ri(1,10,9).reshape(3,3)\n",
        "print(\"\\n3x3 Matrix of random single-digit numbers\\n\",'-'*50,'\\n',A)\n",
        "print(\"\\nMatrix transpose\\n\",\"-\"*50,\"\\n\",np.transpose(A))\n",
        "\n",
        "B = ri(1,10,6).reshape(3,2)\n",
        "print(\"\\n3x2 Matrix of random single-digit numbers\\n\",\"-\"*50,\"\\n\",B)\n",
        "print(\"\\n2x3 Matrix transpose\\n\",\"-\"*50,\"\\n\",np.transpose(B))\n",
        "print(\"\\nMatrix multiplication of B and B-transpose\\n\",\"-\"*50,\"\\n\",np.dot(B, np.transpose(B)))"
      ],
      "execution_count": 24,
      "outputs": [
        {
          "output_type": "stream",
          "text": [
            "\n",
            "3x3 Matrix of random single-digit numbers\n",
            " -------------------------------------------------- \n",
            " [[4 8 4]\n",
            " [4 1 1]\n",
            " [3 1 7]]\n",
            "\n",
            "Matrix transpose\n",
            " -------------------------------------------------- \n",
            " [[4 4 3]\n",
            " [8 1 1]\n",
            " [4 1 7]]\n",
            "\n",
            "3x2 Matrix of random single-digit numbers\n",
            " -------------------------------------------------- \n",
            " [[3 7]\n",
            " [4 6]\n",
            " [4 4]]\n",
            "\n",
            "2x3 Matrix transpose\n",
            " -------------------------------------------------- \n",
            " [[3 4 4]\n",
            " [7 6 4]]\n",
            "\n",
            "Matrix multiplication of B and B-transpose\n",
            " -------------------------------------------------- \n",
            " [[58 54 40]\n",
            " [54 52 40]\n",
            " [40 40 32]]\n"
          ],
          "name": "stdout"
        }
      ]
    },
    {
      "cell_type": "markdown",
      "metadata": {
        "id": "Me-r0TJoY3lj"
      },
      "source": [
        "## Trace"
      ]
    },
    {
      "cell_type": "code",
      "metadata": {
        "colab": {
          "base_uri": "https://localhost:8080/"
        },
        "id": "_96owvIVY2Qk",
        "outputId": "8bdf4466-54e7-48f0-b147-19733634b651"
      },
      "source": [
        "A = ri(1,10,16).reshape(4,4)\n",
        "print(\"\\n4x4 Matrix of random single-digit numbers\\n\",\"-\"*50,\"\\n\",A)\n",
        "print(\"\\nMatrix trace\\n\",\"-\"*50,\"\\n\",np.trace(A))\n",
        "print(\"\\nMatrix trace with ofset +1 (upper triangle)\\n\",\"-\"*50,\"\\n\",np.trace(A,offset=1))\n",
        "print(\"\\nMatrix trace with ofset -1 (lower triangle)\\n\",\"-\"*50,\"\\n\",np.trace(A,offset=-1))"
      ],
      "execution_count": 25,
      "outputs": [
        {
          "output_type": "stream",
          "text": [
            "\n",
            "4x4 Matrix of random single-digit numbers\n",
            " -------------------------------------------------- \n",
            " [[5 8 3 9]\n",
            " [4 2 4 8]\n",
            " [9 2 4 5]\n",
            " [6 6 6 3]]\n",
            "\n",
            "Matrix trace\n",
            " -------------------------------------------------- \n",
            " 14\n",
            "\n",
            "Matrix trace with ofset +1 (upper triangle)\n",
            " -------------------------------------------------- \n",
            " 17\n",
            "\n",
            "Matrix trace with ofset -1 (lower triangle)\n",
            " -------------------------------------------------- \n",
            " 12\n"
          ],
          "name": "stdout"
        }
      ]
    },
    {
      "cell_type": "markdown",
      "metadata": {
        "id": "OV6stT7JY9jt"
      },
      "source": [
        "## Eigenvalues and eigenvectors"
      ]
    },
    {
      "cell_type": "code",
      "metadata": {
        "colab": {
          "base_uri": "https://localhost:8080/"
        },
        "id": "NBAv8D8YY8BT",
        "outputId": "1d46972e-fbad-4034-cc80-efa7ccb10876"
      },
      "source": [
        "A = np.random.randn(9).reshape(3,3)\n",
        "print(\"Orignal matrix \\n\",A)\n",
        "print(\"-\"*50)\n",
        "p,q=np.linalg.eig(A) #Compute the eigenvalues and right eigenvectors of a square array.\n",
        "print(\"Eigenvalues: \\n\",p)\n",
        "print(\"-\"*50)\n",
        "print(\"Eigenvectors: \\n\",q)\n"
      ],
      "execution_count": 26,
      "outputs": [
        {
          "output_type": "stream",
          "text": [
            "Orignal matrix \n",
            " [[-1.09874265e+00 -4.14448884e-01 -1.14221410e+00]\n",
            " [ 8.89001345e-04 -9.95014007e-01  1.11847966e+00]\n",
            " [-3.16044840e-01 -1.00214638e+00  4.59544965e-01]]\n",
            "--------------------------------------------------\n",
            "Eigenvalues: \n",
            " [-0.93528922+0.j         -0.34946123+0.33989572j -0.34946123-0.33989572j]\n",
            "--------------------------------------------------\n",
            "Eigenvectors: \n",
            " [[ 0.94607446+0.j          0.75443274+0.j          0.75443274-0.j        ]\n",
            " [-0.32344747+0.j         -0.54598903-0.0623182j  -0.54598903+0.0623182j ]\n",
            " [-0.01802348+0.j         -0.29679014-0.20188925j -0.29679014+0.20188925j]]\n"
          ],
          "name": "stdout"
        }
      ]
    }
  ]
}